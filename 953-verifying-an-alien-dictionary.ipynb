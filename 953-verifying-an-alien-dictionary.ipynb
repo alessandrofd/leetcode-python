{
 "cells": [
  {
   "cell_type": "code",
   "execution_count": 14,
   "id": "5fe73aba-2a3a-42df-b6c1-ddc2cc8a2edc",
   "metadata": {},
   "outputs": [],
   "source": [
    "class Solution:\n",
    "    def isAlienSorted(self, words, order):\n",
    "        dict = {}\n",
    "        for index, letter in enumerate(order):\n",
    "            dict[letter] = index\n",
    "            \n",
    "        for i in range(len(words) - 1):\n",
    "            for j in range(len(words[i])):\n",
    "                if j >= len(words[i+1]): return False\n",
    "                if dict[words[i][j]] > dict[words[i + 1][j]]: return False\n",
    "                if dict[words[i][j]] < dict[words[i + 1][j]]: break\n",
    "        return True\n",
    "            \n",
    "            "
   ]
  },
  {
   "cell_type": "code",
   "execution_count": 15,
   "id": "86e44392-f6b9-46a8-9c0b-1b06f7bce415",
   "metadata": {},
   "outputs": [
    {
     "data": {
      "text/plain": [
       "True"
      ]
     },
     "execution_count": 15,
     "metadata": {},
     "output_type": "execute_result"
    }
   ],
   "source": [
    "s = Solution()\n",
    "words = ['hello', 'leetcode']\n",
    "order = 'hlabcdefgijkmnopqrstuvwxyz'\n",
    "s.isAlienSorted(words, order)"
   ]
  },
  {
   "cell_type": "code",
   "execution_count": 16,
   "id": "67f89276-1bbd-4f12-af2d-6e01e3e992ce",
   "metadata": {},
   "outputs": [
    {
     "data": {
      "text/plain": [
       "False"
      ]
     },
     "execution_count": 16,
     "metadata": {},
     "output_type": "execute_result"
    }
   ],
   "source": [
    "words = ['word', 'world', 'row']\n",
    "order = 'worldabcefghijkmnpqstuvxyz'\n",
    "s.isAlienSorted(words, order)"
   ]
  },
  {
   "cell_type": "code",
   "execution_count": 17,
   "id": "997099df-1ace-41f2-8e15-f749e9821af8",
   "metadata": {},
   "outputs": [
    {
     "data": {
      "text/plain": [
       "False"
      ]
     },
     "execution_count": 17,
     "metadata": {},
     "output_type": "execute_result"
    }
   ],
   "source": [
    "words = ['apple', 'app']\n",
    "order = 'abcdefghijklmnopqrstuvwxyz'\n",
    "s.isAlienSorted(words, order)"
   ]
  },
  {
   "cell_type": "code",
   "execution_count": null,
   "id": "b408a437-e885-4a9b-bc89-8f0ea9ca956a",
   "metadata": {},
   "outputs": [],
   "source": []
  }
 ],
 "metadata": {
  "kernelspec": {
   "display_name": "Python 3 (ipykernel)",
   "language": "python",
   "name": "python3"
  },
  "language_info": {
   "codemirror_mode": {
    "name": "ipython",
    "version": 3
   },
   "file_extension": ".py",
   "mimetype": "text/x-python",
   "name": "python",
   "nbconvert_exporter": "python",
   "pygments_lexer": "ipython3",
   "version": "3.9.13"
  }
 },
 "nbformat": 4,
 "nbformat_minor": 5
}
