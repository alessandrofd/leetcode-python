{
 "cells": [
  {
   "cell_type": "code",
   "execution_count": 3,
   "id": "3f8446d7-cf2e-45d5-92d6-4656524691b3",
   "metadata": {},
   "outputs": [],
   "source": [
    "class Solution:\n",
    "    def answerQueries(self, nums, queries):\n",
    "        nums.sort()\n",
    "        result = []\n",
    "        \n",
    "        for query in queries:\n",
    "            count = 0\n",
    "            for num in nums:\n",
    "                if query >= num:\n",
    "                    query -= num\n",
    "                    count += 1\n",
    "                else:\n",
    "                    break\n",
    "            result.append(count)\n",
    "        \n",
    "        return result"
   ]
  },
  {
   "cell_type": "code",
   "execution_count": 4,
   "id": "0f7076dd-b0ce-44e6-a99d-ede5ec9c4cea",
   "metadata": {},
   "outputs": [
    {
     "data": {
      "text/plain": [
       "[2, 3, 4]"
      ]
     },
     "execution_count": 4,
     "metadata": {},
     "output_type": "execute_result"
    }
   ],
   "source": [
    "nums = [4, 5, 2, 1]\n",
    "queries = [3, 10, 21]\n",
    "Solution().answerQueries(nums, queries)"
   ]
  },
  {
   "cell_type": "code",
   "execution_count": 5,
   "id": "c76e7cd3-26ed-4100-8227-6bb0ddd0440e",
   "metadata": {},
   "outputs": [
    {
     "data": {
      "text/plain": [
       "[0]"
      ]
     },
     "execution_count": 5,
     "metadata": {},
     "output_type": "execute_result"
    }
   ],
   "source": [
    "nums = [2, 3, 4, 5]\n",
    "queries = [1]\n",
    "Solution().answerQueries(nums, queries)"
   ]
  },
  {
   "cell_type": "code",
   "execution_count": 9,
   "id": "7f95efc0-53a0-4b49-9c7c-bd8d29311419",
   "metadata": {},
   "outputs": [],
   "source": [
    "# Approach 2: Prefix Sum + Binary Search\n",
    "import bisect\n",
    "def answerQueries(nums, queries): \n",
    "    nums.sort()\n",
    "    for i in range(1, len(nums)):\n",
    "        nums[i] += nums[i - 1]\n",
    "    \n",
    "    result = []\n",
    "    for query in queries:\n",
    "        index = bisect.bisect_right(nums, query)\n",
    "        result.append(index)\n",
    "        \n",
    "    return result"
   ]
  },
  {
   "cell_type": "code",
   "execution_count": 10,
   "id": "6c931147-c2c0-4404-b164-626f738dc35f",
   "metadata": {},
   "outputs": [
    {
     "data": {
      "text/plain": [
       "[2, 3, 4]"
      ]
     },
     "execution_count": 10,
     "metadata": {},
     "output_type": "execute_result"
    }
   ],
   "source": [
    "nums = [4, 5, 2, 1]\n",
    "queries = [3, 10, 21]\n",
    "answerQueries(nums, queries)"
   ]
  },
  {
   "cell_type": "code",
   "execution_count": 11,
   "id": "0990639d-b5f4-469f-bddc-aedbbcaed281",
   "metadata": {},
   "outputs": [
    {
     "data": {
      "text/plain": [
       "[0]"
      ]
     },
     "execution_count": 11,
     "metadata": {},
     "output_type": "execute_result"
    }
   ],
   "source": [
    "nums = [2, 3, 4, 5]\n",
    "queries = [1]\n",
    "answerQueries(nums, queries)"
   ]
  },
  {
   "cell_type": "code",
   "execution_count": null,
   "id": "e570ad83-4faa-4ff3-8df9-328d48abb51d",
   "metadata": {},
   "outputs": [],
   "source": []
  }
 ],
 "metadata": {
  "kernelspec": {
   "display_name": "Python 3 (ipykernel)",
   "language": "python",
   "name": "python3"
  },
  "language_info": {
   "codemirror_mode": {
    "name": "ipython",
    "version": 3
   },
   "file_extension": ".py",
   "mimetype": "text/x-python",
   "name": "python",
   "nbconvert_exporter": "python",
   "pygments_lexer": "ipython3",
   "version": "3.9.13"
  }
 },
 "nbformat": 4,
 "nbformat_minor": 5
}
