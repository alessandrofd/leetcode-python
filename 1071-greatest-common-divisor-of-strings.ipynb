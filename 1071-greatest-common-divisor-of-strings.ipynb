{
 "cells": [
  {
   "cell_type": "code",
   "execution_count": 5,
   "id": "cf345e98-835d-43d0-b1f9-6c7a3cf7039c",
   "metadata": {},
   "outputs": [],
   "source": [
    "from math import gcd \n",
    "\n",
    "class Solution:\n",
    "    def gcdOfStrings(self, str1, str2):\n",
    "        if str1 + str2 != str2 + str1:\n",
    "            return ''\n",
    "        \n",
    "        length = gcd(len(str1), len(str2))\n",
    "        return str1[:length]"
   ]
  },
  {
   "cell_type": "code",
   "execution_count": 6,
   "id": "853f497a-66f1-4b60-8dbb-d4b644fd0114",
   "metadata": {},
   "outputs": [
    {
     "data": {
      "text/plain": [
       "'ABC'"
      ]
     },
     "execution_count": 6,
     "metadata": {},
     "output_type": "execute_result"
    }
   ],
   "source": [
    "solution = Solution()\n",
    "solution.gcdOfStrings(\"ABCABC\",  \"ABC\")"
   ]
  },
  {
   "cell_type": "code",
   "execution_count": 7,
   "id": "c98beefa-d333-4c76-a699-71ebd6570cd7",
   "metadata": {},
   "outputs": [
    {
     "data": {
      "text/plain": [
       "'AB'"
      ]
     },
     "execution_count": 7,
     "metadata": {},
     "output_type": "execute_result"
    }
   ],
   "source": [
    "solution.gcdOfStrings(\"ABABAB\", \"ABAB\")"
   ]
  },
  {
   "cell_type": "code",
   "execution_count": 8,
   "id": "205ad28d-ed62-4e4e-a75e-5b3b8349d896",
   "metadata": {},
   "outputs": [
    {
     "data": {
      "text/plain": [
       "''"
      ]
     },
     "execution_count": 8,
     "metadata": {},
     "output_type": "execute_result"
    }
   ],
   "source": [
    "solution.gcdOfStrings(\"LEET\", \"CODE\")"
   ]
  },
  {
   "cell_type": "code",
   "execution_count": null,
   "id": "6f4cfb21-b30b-47dc-878e-6e196c24e95c",
   "metadata": {},
   "outputs": [],
   "source": []
  }
 ],
 "metadata": {
  "kernelspec": {
   "display_name": "Python 3 (ipykernel)",
   "language": "python",
   "name": "python3"
  },
  "language_info": {
   "codemirror_mode": {
    "name": "ipython",
    "version": 3
   },
   "file_extension": ".py",
   "mimetype": "text/x-python",
   "name": "python",
   "nbconvert_exporter": "python",
   "pygments_lexer": "ipython3",
   "version": "3.9.13"
  }
 },
 "nbformat": 4,
 "nbformat_minor": 5
}
