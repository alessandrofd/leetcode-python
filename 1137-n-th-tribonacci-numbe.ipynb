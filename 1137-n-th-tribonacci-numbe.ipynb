{
 "cells": [
  {
   "cell_type": "code",
   "execution_count": 1,
   "id": "dd8bc1ce-4f6a-442c-9e82-9b49363134ac",
   "metadata": {},
   "outputs": [],
   "source": [
    "class Tri:\n",
    "    def __init__(self):\n",
    "        def helper(k):\n",
    "            if k == 0:\n",
    "                return 0\n",
    "            if memo[k]:\n",
    "                return memo[k]\n",
    "            memo[k] = helper(k - 1) + helper(k - 2) + helper(k - 3)\n",
    "            return memo[k]\n",
    "    \n",
    "        n = 38\n",
    "        self.memo = memo = [0] * n\n",
    "        memo[1] = memo[2] = 1\n",
    "        helper(n-1)\n",
    "        \n",
    "class Solution:\n",
    "    t = Tri()\n",
    "    def tribonacci(self, n: int) -> int:\n",
    "        return self.t.memo[n]\n"
   ]
  },
  {
   "cell_type": "code",
   "execution_count": 7,
   "id": "5d159854-df09-48d3-abe0-6e06b3163ccb",
   "metadata": {},
   "outputs": [],
   "source": [
    "from functools import cache\n",
    "\n",
    "class Solution:\n",
    "    @cache\n",
    "    def tribonacci(self, n: int) -> int:\n",
    "        if n == 0:\n",
    "            return n\n",
    "        if n < 3:\n",
    "            return 1\n",
    "        return self.tribonacci(n - 1) + self.tribonacci(n - 2) + self.tribonacci(n - 3)"
   ]
  },
  {
   "cell_type": "code",
   "execution_count": 8,
   "id": "9af2e4f8-8c0f-42ff-9315-1083d34d8e08",
   "metadata": {},
   "outputs": [
    {
     "data": {
      "text/plain": [
       "4"
      ]
     },
     "execution_count": 8,
     "metadata": {},
     "output_type": "execute_result"
    }
   ],
   "source": [
    "sol = Solution()\n",
    "sol.tribonacci(4)\n"
   ]
  },
  {
   "cell_type": "code",
   "execution_count": 9,
   "id": "22fc071d-b87f-4bc4-9dd8-04984ae6ac64",
   "metadata": {},
   "outputs": [
    {
     "data": {
      "text/plain": [
       "1389537"
      ]
     },
     "execution_count": 9,
     "metadata": {},
     "output_type": "execute_result"
    }
   ],
   "source": [
    "sol.tribonacci(25)"
   ]
  },
  {
   "cell_type": "code",
   "execution_count": null,
   "id": "4bfddf95-e658-4f6a-8344-5b60f90f3982",
   "metadata": {},
   "outputs": [],
   "source": []
  }
 ],
 "metadata": {
  "kernelspec": {
   "display_name": "Python 3 (ipykernel)",
   "language": "python",
   "name": "python3"
  },
  "language_info": {
   "codemirror_mode": {
    "name": "ipython",
    "version": 3
   },
   "file_extension": ".py",
   "mimetype": "text/x-python",
   "name": "python",
   "nbconvert_exporter": "python",
   "pygments_lexer": "ipython3",
   "version": "3.9.13"
  },
  "vscode": {
   "interpreter": {
    "hash": "68b83d36125722a4cfa54faf6473e9cfaf94e2e30a32ae0e02287cb9789563ab"
   }
  }
 },
 "nbformat": 4,
 "nbformat_minor": 5
}
